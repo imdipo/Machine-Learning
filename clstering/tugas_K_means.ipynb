{
  "cells": [
    {
      "cell_type": "code",
      "execution_count": 1,
      "metadata": {
        "id": "RIMAdX4FCiWG"
      },
      "outputs": [],
      "source": [
        "import pandas as pd\n",
        "import seaborn as sns\n",
        "from sklearn import preprocessing\n",
        "from sklearn.cluster import KMeans\n",
        "from sklearn.metrics import silhouette_score"
      ]
    },
    {
      "cell_type": "code",
      "execution_count": null,
      "metadata": {
        "colab": {
          "base_uri": "https://localhost:8080/"
        },
        "id": "3NJ2-_R2lsQz",
        "outputId": "fa5cc15d-09da-4d97-831c-885feacdcc93"
      },
      "outputs": [],
      "source": [
        "# membaca honey_purity_dataset.csv\n",
        "home_data = pd.read_csv('honey_purity_dataset.csv')\n",
        "print(home_data)"
      ]
    },
    {
      "cell_type": "code",
      "execution_count": null,
      "metadata": {
        "colab": {
          "base_uri": "https://localhost:8080/",
          "height": 353
        },
        "id": "FNBqgswwGfcD",
        "outputId": "8f7677c3-b536-425c-ca8b-a2129fc883ed"
      },
      "outputs": [],
      "source": [
        "# menampilkan 5 data teratas\n",
        "home_data = pd.read_csv('honey_purity_dataset.csv', usecols = ['Viscosity', 'Price', 'Purity'])\n",
        "home_data.head()\n",
        "#F = Fruktosa\n",
        "#G = Gluktosa"
      ]
    },
    {
      "cell_type": "code",
      "execution_count": null,
      "metadata": {},
      "outputs": [],
      "source": [
        "# kita akan memprediksi kemurnian madu berdasarkan kekentalannya dan harganya\n",
        "sns.scatterplot(data = home_data, x = 'Viscosity', y = 'Price', hue = 'Purity')"
      ]
    },
    {
      "cell_type": "code",
      "execution_count": null,
      "metadata": {},
      "outputs": [],
      "source": [
        "#karena jumlah data yang banyak maka akan dinormalisasikan \n",
        "normalized_data = preprocessing.normalize(home_data[['Viscosity','Price']])\n",
        "print(normalized_data)"
      ]
    },
    {
      "cell_type": "code",
      "execution_count": null,
      "metadata": {
        "colab": {
          "base_uri": "https://localhost:8080/"
        },
        "id": "J9cS49zWV1Yp",
        "outputId": "c8eb84ff-eca6-476c-fd46-17484643b980"
      },
      "outputs": [],
      "source": [
        "# pusat-pusat kluster\n",
        "centers = kmeans.cluster_centers_\n",
        "print(centers)"
      ]
    },
    {
      "cell_type": "code",
      "execution_count": null,
      "metadata": {
        "colab": {
          "base_uri": "https://localhost:8080/",
          "height": 335
        },
        "id": "_-1wZgveOm0q",
        "outputId": "fe3e23bb-ecaf-41a3-e938-f52f87e1fbaf"
      },
      "outputs": [],
      "source": [
        "# memvisualisasikan data dalam bentuk 3d\n",
        "import plotly.express as px\n",
        "import matplotlib.pyplot as plt\n",
        "# fig = plt.figure()\n",
        "# ax = fig.add_subplot(111, projection=\"3d\")\n",
        "# ax.scatter(xs=home_data[\"pH\"], ys=home_data[\"WC\"], zs=home_data[\"Purity\"], c=home_data[\"Purity\"])\n",
        "\n",
        "# fig.show()\n",
        "# sns.scatterplot(data = home_data, x = 'F', y = 'Purity', hue = 'Purity')\n",
        "px.scatter_3d(home_data, x=\"Viscosity\", y=\"Price\", z=\"Purity\", color=\"Purity\")"
      ]
    },
    {
      "cell_type": "code",
      "execution_count": null,
      "metadata": {},
      "outputs": [],
      "source": [
        "import pandas as pd\n",
        "import numpy as np\n",
        "import plotly.express as px\n",
        "from scipy import stats\n",
        "\n",
        "home_data = pd.read_csv('honey_purity_dataset.csv', usecols=['Viscosity', 'Price', 'Purity'])\n",
        "\n",
        "# Create bins based on the \"Purity\" column\n",
        "bins = pd.cut(home_data['Purity'], bins=1000)\n",
        "\n",
        "# Group the data by bins and find the minimum purity for each bin\n",
        "home_data['Purity_Bin'] = bins\n",
        "home_data_binned = home_data.groupby('Purity_Bin').agg({'Viscosity': 'mean', 'Price': 'mean', 'Purity': 'min'}).reset_index()\n",
        "home_data_binned = home_data_binned[(np.abs(stats.zscore(home_data_binned[\"Viscosity\"]))<0.1)]\n",
        "# Plot the data using the minimum purity values\n",
        "fig = px.scatter_3d(home_data_binned, x=\"Viscosity\", y=\"Price\", z=\"Purity\", color=\"Purity\",\n",
        "                    labels={\"Viscosity\": \"Viscosity\", \"Price\": \"Price\", \"Purity\": \"Minimum Purity\"})\n",
        "fig.show()"
      ]
    },
    {
      "cell_type": "code",
      "execution_count": null,
      "metadata": {},
      "outputs": [],
      "source": [
        "home_data_binned"
      ]
    },
    {
      "cell_type": "code",
      "execution_count": null,
      "metadata": {},
      "outputs": [],
      "source": [
        "home_data_binned.info()"
      ]
    },
    {
      "cell_type": "code",
      "execution_count": null,
      "metadata": {
        "id": "o7H5NRKABpQU"
      },
      "outputs": [],
      "source": [
        "print(silhouette_score(normalized_data, kmeans.labels_, metric='euclidean'))"
      ]
    }
  ],
  "metadata": {
    "colab": {
      "provenance": []
    },
    "kernelspec": {
      "display_name": "Python 3",
      "name": "python3"
    },
    "language_info": {
      "codemirror_mode": {
        "name": "ipython",
        "version": 3
      },
      "file_extension": ".py",
      "mimetype": "text/x-python",
      "name": "python",
      "nbconvert_exporter": "python",
      "pygments_lexer": "ipython3",
      "version": "3.9.13"
    }
  },
  "nbformat": 4,
  "nbformat_minor": 0
}
